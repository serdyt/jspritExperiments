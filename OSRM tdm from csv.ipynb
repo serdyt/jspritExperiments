{
 "cells": [
  {
   "cell_type": "code",
   "execution_count": 55,
   "id": "fa0c3294",
   "metadata": {},
   "outputs": [],
   "source": [
    "import pandas as pd\n",
    "import requests"
   ]
  },
  {
   "cell_type": "code",
   "execution_count": 56,
   "id": "6e2b7f75",
   "metadata": {},
   "outputs": [],
   "source": [
    "class Coord(object):\n",
    "    \"\"\"Coordinate.\n",
    "\n",
    "    Parameters\n",
    "    ----------\n",
    "    lat : <float> latitude\n",
    "    lon : <float> longitude\n",
    "    latlon : <list> list with both lat and long. Latitude first!\n",
    "    \"\"\"\n",
    "    def __init__(self, lat=None, lon=None, latlon=None):\n",
    "        if latlon is not None:\n",
    "            if len(latlon) != 2:\n",
    "                raise Exception(\"Wrong coordinate latlon format. Should be a list of two floats.\")\n",
    "            self.lat = latlon[0]\n",
    "            self.lon = latlon[1]\n",
    "        elif lat is None or lon is None:\n",
    "            raise Exception(\"Coordinates not provided\")\n",
    "        else:\n",
    "            self.lat = lat\n",
    "            self.lon = lon\n",
    "\n",
    "    def to_json(self):\n",
    "        return json.dumps(self, default=lambda o: self._try(o), sort_keys=True, indent=4, separators=(',', ':'))\n",
    "\n",
    "    @staticmethod\n",
    "    def _try(o):\n",
    "        try:\n",
    "            if o.__class__ == Coord:\n",
    "                raise Exception()\n",
    "            return o.__dict__\n",
    "        except:\n",
    "            return str(o)\n",
    "        \n",
    "    def __str__(self):\n",
    "        return str(self.lat) + ',' + str(self.lon)\n",
    "\n",
    "    def __repr__(self):\n",
    "        return self.__str__()\n",
    "\n",
    "    def __eq__(self, other):\n",
    "        return self.lat == other.lat and self.lon == other.lon\n",
    "\n",
    "    def __hash__(self):\n",
    "        return hash((self.lat, self.lon))\n"
   ]
  },
  {
   "cell_type": "code",
   "execution_count": 57,
   "id": "42a1e080",
   "metadata": {},
   "outputs": [],
   "source": [
    "id_coord = pd.read_csv('population_lolland_4500_0.csv', header=None)"
   ]
  },
  {
   "cell_type": "code",
   "execution_count": 58,
   "id": "8ea8b796",
   "metadata": {},
   "outputs": [
    {
     "data": {
      "text/html": [
       "<div>\n",
       "<style scoped>\n",
       "    .dataframe tbody tr th:only-of-type {\n",
       "        vertical-align: middle;\n",
       "    }\n",
       "\n",
       "    .dataframe tbody tr th {\n",
       "        vertical-align: top;\n",
       "    }\n",
       "\n",
       "    .dataframe thead th {\n",
       "        text-align: right;\n",
       "    }\n",
       "</style>\n",
       "<table border=\"1\" class=\"dataframe\">\n",
       "  <thead>\n",
       "    <tr style=\"text-align: right;\">\n",
       "      <th></th>\n",
       "      <th>0</th>\n",
       "      <th>1</th>\n",
       "      <th>2</th>\n",
       "    </tr>\n",
       "  </thead>\n",
       "  <tbody>\n",
       "    <tr>\n",
       "      <th>0</th>\n",
       "      <td>0</td>\n",
       "      <td>11.138917</td>\n",
       "      <td>54.832973</td>\n",
       "    </tr>\n",
       "    <tr>\n",
       "      <th>1</th>\n",
       "      <td>1</td>\n",
       "      <td>11.089274</td>\n",
       "      <td>54.876195</td>\n",
       "    </tr>\n",
       "    <tr>\n",
       "      <th>2</th>\n",
       "      <td>2</td>\n",
       "      <td>11.139552</td>\n",
       "      <td>54.833045</td>\n",
       "    </tr>\n",
       "    <tr>\n",
       "      <th>3</th>\n",
       "      <td>3</td>\n",
       "      <td>11.144421</td>\n",
       "      <td>54.820618</td>\n",
       "    </tr>\n",
       "    <tr>\n",
       "      <th>4</th>\n",
       "      <td>4</td>\n",
       "      <td>11.142571</td>\n",
       "      <td>54.830062</td>\n",
       "    </tr>\n",
       "    <tr>\n",
       "      <th>...</th>\n",
       "      <td>...</td>\n",
       "      <td>...</td>\n",
       "      <td>...</td>\n",
       "    </tr>\n",
       "    <tr>\n",
       "      <th>231</th>\n",
       "      <td>231</td>\n",
       "      <td>11.124462</td>\n",
       "      <td>54.898505</td>\n",
       "    </tr>\n",
       "    <tr>\n",
       "      <th>232</th>\n",
       "      <td>232</td>\n",
       "      <td>11.010379</td>\n",
       "      <td>54.775875</td>\n",
       "    </tr>\n",
       "    <tr>\n",
       "      <th>233</th>\n",
       "      <td>233</td>\n",
       "      <td>11.173146</td>\n",
       "      <td>54.833725</td>\n",
       "    </tr>\n",
       "    <tr>\n",
       "      <th>234</th>\n",
       "      <td>234</td>\n",
       "      <td>11.139268</td>\n",
       "      <td>54.827073</td>\n",
       "    </tr>\n",
       "    <tr>\n",
       "      <th>235</th>\n",
       "      <td>235</td>\n",
       "      <td>11.158992</td>\n",
       "      <td>54.832287</td>\n",
       "    </tr>\n",
       "  </tbody>\n",
       "</table>\n",
       "<p>236 rows × 3 columns</p>\n",
       "</div>"
      ],
      "text/plain": [
       "       0          1          2\n",
       "0      0  11.138917  54.832973\n",
       "1      1  11.089274  54.876195\n",
       "2      2  11.139552  54.833045\n",
       "3      3  11.144421  54.820618\n",
       "4      4  11.142571  54.830062\n",
       "..   ...        ...        ...\n",
       "231  231  11.124462  54.898505\n",
       "232  232  11.010379  54.775875\n",
       "233  233  11.173146  54.833725\n",
       "234  234  11.139268  54.827073\n",
       "235  235  11.158992  54.832287\n",
       "\n",
       "[236 rows x 3 columns]"
      ]
     },
     "execution_count": 58,
     "metadata": {},
     "output_type": "execute_result"
    }
   ],
   "source": [
    "id_coord"
   ]
  },
  {
   "cell_type": "code",
   "execution_count": 59,
   "id": "da775f33",
   "metadata": {},
   "outputs": [],
   "source": [
    "id_coord['coord'] = id_coord.apply(lambda x: Coord(lon=x[1], lat=x[2]), axis=1)"
   ]
  },
  {
   "cell_type": "code",
   "execution_count": 60,
   "id": "2275adf4",
   "metadata": {},
   "outputs": [],
   "source": [
    "def _osrm_tdm_request(coords):\n",
    "    url_coords = ';'.join([str(coord.lon) + ',' + str(coord.lat) for coord in coords])\n",
    "    url_server = 'http://0.0.0.0:5000/table/v1/driving/'\n",
    "    url_options = 'fallback_speed=9999999999&annotations=duration,distance'\n",
    "    url_full = '{}{}?{}'.format(url_server, url_coords, url_options)\n",
    "    resp = requests.get(url=url_full)\n",
    "\n",
    "    jresp = resp.json()\n",
    "    if jresp.get('code') != 'Ok':\n",
    "        log.error(jresp.get('code'))\n",
    "        log.error(jresp.get('message'))\n",
    "        resp.raise_for_status()\n",
    "\n",
    "    return jresp.get('durations'), jresp.get('distances')"
   ]
  },
  {
   "cell_type": "code",
   "execution_count": 61,
   "id": "97c9d478",
   "metadata": {},
   "outputs": [],
   "source": [
    "tdm = _osrm_tdm_request(id_coord.coord)"
   ]
  },
  {
   "cell_type": "code",
   "execution_count": 62,
   "id": "d0c42068",
   "metadata": {},
   "outputs": [],
   "source": [
    "df = []\n",
    "durations = tdm[0]\n",
    "distances = tdm[1]\n",
    "for source, duration_row, distance_row in zip(range(0, len(durations)+1), durations, distances):\n",
    "    for destination, duration, distance in zip(range(0, len(durations)+1), duration_row, distance_row):\n",
    "        df.append((source,\n",
    "                  destination,\n",
    "                  duration,\n",
    "                  distance))"
   ]
  },
  {
   "cell_type": "code",
   "execution_count": 63,
   "id": "5457fd1c",
   "metadata": {},
   "outputs": [],
   "source": [
    "pd.DataFrame(df).to_csv('tdm_lolland.csv', header=None, index=None)"
   ]
  },
  {
   "cell_type": "code",
   "execution_count": null,
   "id": "609cfc65",
   "metadata": {},
   "outputs": [],
   "source": [
    "pd.DataFrame(df).to_feather('tdm.feater')"
   ]
  }
 ],
 "metadata": {
  "kernelspec": {
   "display_name": "Python 3",
   "language": "python",
   "name": "python3"
  },
  "language_info": {
   "codemirror_mode": {
    "name": "ipython",
    "version": 3
   },
   "file_extension": ".py",
   "mimetype": "text/x-python",
   "name": "python",
   "nbconvert_exporter": "python",
   "pygments_lexer": "ipython3",
   "version": "3.9.12"
  }
 },
 "nbformat": 4,
 "nbformat_minor": 5
}
