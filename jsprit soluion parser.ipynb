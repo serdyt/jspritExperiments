{
 "cells": [
  {
   "cell_type": "code",
   "execution_count": 1,
   "id": "f5dac4e9",
   "metadata": {},
   "outputs": [],
   "source": [
    "import csv\n",
    "import xml.etree.ElementTree as ET\n",
    "import pandas as pd"
   ]
  },
  {
   "cell_type": "code",
   "execution_count": 2,
   "id": "ad443993",
   "metadata": {},
   "outputs": [],
   "source": [
    "class JspritSolution(object):\n",
    "    def __init__(self, cost, routes=None, unassigned=None):\n",
    "        self.cost = cost\n",
    "        self.routes = routes\n",
    "        self.unassigned = unassigned\n",
    "        self.modified_route = None"
   ]
  },
  {
   "cell_type": "code",
   "execution_count": 3,
   "id": "15bf0e06",
   "metadata": {},
   "outputs": [],
   "source": [
    "class ActType(object):\n",
    "    PICK_UP = 0\n",
    "    DROP_OFF = 1\n",
    "    DELIVERY = 2\n",
    "    DRIVE = 3\n",
    "    WAIT = 4\n",
    "    RETURN = 5\n",
    "    IDLE = 6\n",
    "\n",
    "    def __init__(self, type_=None):\n",
    "        self.type = type_\n",
    "\n",
    "    @staticmethod\n",
    "    def get_type_from_string(act_string):\n",
    "        return {'pickupShipment': ActType.PICK_UP,\n",
    "                'deliverShipment': ActType.DROP_OFF,\n",
    "                'delivery': ActType.DELIVERY\n",
    "                }[act_string]\n",
    "\n",
    "    @staticmethod\n",
    "    def get_string_from_type(act_type):\n",
    "        return {ActType.PICK_UP: 'pickupShipment',\n",
    "                ActType.DROP_OFF: 'deliverShipment',\n",
    "                ActType.DELIVERY: 'delivery',\n",
    "                ActType.RETURN: 'return',\n",
    "                ActType.WAIT: 'wait',\n",
    "                ActType.DRIVE: 'drive',\n",
    "                ActType.IDLE: 'idle',\n",
    "                }[act_type]\n",
    "\n",
    "    def __str__(self):\n",
    "        return self.get_string_from_type(self.type)\n",
    "\n",
    "    def __repr__(self):\n",
    "        return self.__str__()"
   ]
  },
  {
   "cell_type": "code",
   "execution_count": 4,
   "id": "2d92d352",
   "metadata": {},
   "outputs": [],
   "source": [
    "class JspritAct(ActType):\n",
    "\n",
    "    def __init__(self, type_=None, person_id=None, end_time=None, arrival_time=None):\n",
    "        super(JspritAct, self).__init__(type_=type_)\n",
    "        self.person_id = person_id\n",
    "        self.end_time = end_time\n",
    "        self.arrival_time = arrival_time\n",
    "\n",
    "    def get_duration(self):\n",
    "        return self.end_time - self.arrival_time\n",
    "\n",
    "    def __str__(self):\n",
    "        return 'Person{}, end_time {}, arrival_time {}' \\\n",
    "            .format(self.person_id, self.end_time, self.arrival_time)\n",
    "\n",
    "    def __repr__(self):\n",
    "        return self.__str__()"
   ]
  },
  {
   "cell_type": "code",
   "execution_count": 5,
   "id": "558c2b77",
   "metadata": {},
   "outputs": [],
   "source": [
    "class JspritRoute(object):\n",
    "    acts = None  # type: List[JspritAct]\n",
    "\n",
    "    def __init__(self, vehicle_id=None, start_time=None, end_time=None, acts=None):\n",
    "        self.vehicle_id = vehicle_id\n",
    "        self.start_time = start_time\n",
    "        self.end_time = end_time\n",
    "        self.acts = acts"
   ]
  },
  {
   "cell_type": "code",
   "execution_count": 6,
   "id": "ba435605",
   "metadata": {},
   "outputs": [],
   "source": [
    "def read_vrp_solution(file_name):\n",
    "    \"\"\"Reads solution from output XML file of jsprit\n",
    "    :return:  JspritSolution\n",
    "    \"\"\"\n",
    "    tree = ET.parse(file_name)\n",
    "    root = tree.getroot()\n",
    "    namespace = {'xmlns': 'http://www.w3schools.com'}\n",
    "    solutions_element = root.find('xmlns:solutions', namespace)\n",
    "    solution_element = solutions_element.find('xmlns:solution', namespace)\n",
    "    routes = []\n",
    "    routes_element = solution_element.find('xmlns:routes', namespace)\n",
    "    # Theoretically there could be situation when no traveler can be routed\n",
    "    if routes_element is None:\n",
    "        return None\n",
    "    for route_element in routes_element.findall('xmlns:route', namespace):\n",
    "        acts = []\n",
    "        for act_element in route_element.findall('xmlns:act', namespace):\n",
    "            person_id_element = act_element.find('xmlns:shipmentId', namespace)\n",
    "            if person_id_element is None:\n",
    "                person_id_element = act_element.find('xmlns:serviceId', namespace)\n",
    "            act = JspritAct(type_=JspritAct.get_type_from_string(act_element.attrib.get('type')),\n",
    "                            person_id=int(person_id_element.text),\n",
    "                            end_time=float(act_element.find('xmlns:endTime', namespace).text),\n",
    "                            arrival_time=float(act_element.find('xmlns:arrTime', namespace).text)\n",
    "                            )\n",
    "            acts.append(act)\n",
    "        route = JspritRoute(vehicle_id=int(route_element.find('xmlns:vehicleId', namespace).text),\n",
    "                            start_time=float(route_element.find('xmlns:start', namespace).text),\n",
    "                            end_time=float(route_element.find('xmlns:end', namespace).text),\n",
    "                            acts=acts\n",
    "                            )\n",
    "        routes.append(route)\n",
    "    unassigned_jobs_elements = solution_element.findall('xmlns:unassignedJobs', namespace)\n",
    "    unassigned_job_ids = []\n",
    "    # there could be unroutable or undeliverable requests\n",
    "    if unassigned_jobs_elements is not None and len(unassigned_jobs_elements) > 0:\n",
    "        for unassigned_jobs_element in unassigned_jobs_elements[0].findall('xmlns:job', namespace):\n",
    "            unassigned_job_ids.append(int(unassigned_jobs_element.attrib.get('id')))\n",
    "\n",
    "    solution = JspritSolution(cost=float(solution_element.find('xmlns:cost', namespace).text),\n",
    "                              routes=routes,\n",
    "                              unassigned=unassigned_job_ids)\n",
    "    return solution"
   ]
  },
  {
   "cell_type": "code",
   "execution_count": 7,
   "id": "7504e960",
   "metadata": {},
   "outputs": [],
   "source": [
    "def read_vrp_initial_solution(file_name):\n",
    "    \"\"\"Reads solution from output XML file of jsprit\n",
    "    :return:  JspritSolution\n",
    "    \"\"\"\n",
    "    tree = ET.parse(file_name)\n",
    "    root = tree.getroot()\n",
    "    namespace = {'xmlns': 'http://www.w3schools.com'}\n",
    "    routes = []\n",
    "    for route_element in root.findall('xmlns:initialRoutes/xmlns:route', namespace):\n",
    "        acts = []\n",
    "        for act_element in route_element.findall('xmlns:act', namespace):\n",
    "            person_id_element = act_element.find('xmlns:shipmentId', namespace)\n",
    "            if person_id_element is None:\n",
    "                person_id_element = act_element.find('xmlns:serviceId', namespace)\n",
    "            act = JspritAct(type_=JspritAct.get_type_from_string(act_element.attrib.get('type')),\n",
    "                            person_id=int(person_id_element.text),\n",
    "                            end_time=float(act_element.find('xmlns:endTime', namespace).text),\n",
    "                            arrival_time=float(act_element.find('xmlns:arrTime', namespace).text)\n",
    "                            )\n",
    "            acts.append(act)\n",
    "        route = JspritRoute(vehicle_id=int(route_element.find('xmlns:vehicleId', namespace).text),\n",
    "                            start_time=float(route_element.find('xmlns:start', namespace).text),\n",
    "                            end_time=float(route_element.find('xmlns:end', namespace).text),\n",
    "                            acts=acts\n",
    "                            )\n",
    "        routes.append(route)\n",
    "\n",
    "    solution = JspritSolution(cost=0,\n",
    "                              routes=routes,\n",
    "                              unassigned=[])\n",
    "    return solution"
   ]
  },
  {
   "cell_type": "code",
   "execution_count": 8,
   "id": "a59b11af",
   "metadata": {},
   "outputs": [],
   "source": [
    "file = 'data/wait_cost_1203/solution_sjobo_integrated_STS_all_general_all_BIFR.xml'"
   ]
  },
  {
   "cell_type": "code",
   "execution_count": 9,
   "id": "c06d9944",
   "metadata": {},
   "outputs": [],
   "source": [
    "tdm = pd.read_csv('data/tdm_sjobo_integrated_STS_all_general_all.csv', header=None)"
   ]
  },
  {
   "cell_type": "code",
   "execution_count": 10,
   "id": "d47ee8ee",
   "metadata": {},
   "outputs": [],
   "source": [
    "solution = read_vrp_solution(file)\n",
    "# solution = read_vrp_initial_solution(file)"
   ]
  },
  {
   "cell_type": "code",
   "execution_count": 11,
   "id": "2e17247c",
   "metadata": {},
   "outputs": [],
   "source": [
    "tdm = tdm.set_index([0,1])\n",
    "tdm.columns = ['time', 'distance']"
   ]
  },
  {
   "cell_type": "code",
   "execution_count": 12,
   "id": "2288bd0f",
   "metadata": {},
   "outputs": [
    {
     "data": {
      "text/html": [
       "<div>\n",
       "<style scoped>\n",
       "    .dataframe tbody tr th:only-of-type {\n",
       "        vertical-align: middle;\n",
       "    }\n",
       "\n",
       "    .dataframe tbody tr th {\n",
       "        vertical-align: top;\n",
       "    }\n",
       "\n",
       "    .dataframe thead th {\n",
       "        text-align: right;\n",
       "    }\n",
       "</style>\n",
       "<table border=\"1\" class=\"dataframe\">\n",
       "  <thead>\n",
       "    <tr style=\"text-align: right;\">\n",
       "      <th></th>\n",
       "      <th></th>\n",
       "      <th>time</th>\n",
       "      <th>distance</th>\n",
       "    </tr>\n",
       "    <tr>\n",
       "      <th>0</th>\n",
       "      <th>1</th>\n",
       "      <th></th>\n",
       "      <th></th>\n",
       "    </tr>\n",
       "  </thead>\n",
       "  <tbody>\n",
       "    <tr>\n",
       "      <th rowspan=\"5\" valign=\"top\">0</th>\n",
       "      <th>0</th>\n",
       "      <td>0.0</td>\n",
       "      <td>0.0</td>\n",
       "    </tr>\n",
       "    <tr>\n",
       "      <th>1</th>\n",
       "      <td>2862.4</td>\n",
       "      <td>57530.0</td>\n",
       "    </tr>\n",
       "    <tr>\n",
       "      <th>2</th>\n",
       "      <td>4443.8</td>\n",
       "      <td>101104.7</td>\n",
       "    </tr>\n",
       "    <tr>\n",
       "      <th>3</th>\n",
       "      <td>5350.5</td>\n",
       "      <td>122468.1</td>\n",
       "    </tr>\n",
       "    <tr>\n",
       "      <th>4</th>\n",
       "      <td>5808.1</td>\n",
       "      <td>125854.7</td>\n",
       "    </tr>\n",
       "    <tr>\n",
       "      <th>...</th>\n",
       "      <th>...</th>\n",
       "      <td>...</td>\n",
       "      <td>...</td>\n",
       "    </tr>\n",
       "    <tr>\n",
       "      <th rowspan=\"5\" valign=\"top\">9670</th>\n",
       "      <th>9666</th>\n",
       "      <td>1953.2</td>\n",
       "      <td>30651.9</td>\n",
       "    </tr>\n",
       "    <tr>\n",
       "      <th>9667</th>\n",
       "      <td>2611.8</td>\n",
       "      <td>38451.7</td>\n",
       "    </tr>\n",
       "    <tr>\n",
       "      <th>9668</th>\n",
       "      <td>1927.1</td>\n",
       "      <td>30486.5</td>\n",
       "    </tr>\n",
       "    <tr>\n",
       "      <th>9669</th>\n",
       "      <td>3430.8</td>\n",
       "      <td>71024.4</td>\n",
       "    </tr>\n",
       "    <tr>\n",
       "      <th>9670</th>\n",
       "      <td>0.0</td>\n",
       "      <td>0.0</td>\n",
       "    </tr>\n",
       "  </tbody>\n",
       "</table>\n",
       "<p>93528241 rows × 2 columns</p>\n",
       "</div>"
      ],
      "text/plain": [
       "             time  distance\n",
       "0    1                     \n",
       "0    0        0.0       0.0\n",
       "     1     2862.4   57530.0\n",
       "     2     4443.8  101104.7\n",
       "     3     5350.5  122468.1\n",
       "     4     5808.1  125854.7\n",
       "...           ...       ...\n",
       "9670 9666  1953.2   30651.9\n",
       "     9667  2611.8   38451.7\n",
       "     9668  1927.1   30486.5\n",
       "     9669  3430.8   71024.4\n",
       "     9670     0.0       0.0\n",
       "\n",
       "[93528241 rows x 2 columns]"
      ]
     },
     "execution_count": 12,
     "metadata": {},
     "output_type": "execute_result"
    }
   ],
   "source": [
    "tdm"
   ]
  },
  {
   "cell_type": "code",
   "execution_count": 13,
   "id": "050e4b4b",
   "metadata": {},
   "outputs": [],
   "source": [
    "class shipment(object):\n",
    "    def __init__(self, person_id=None, pickup_id=None, delivery_id=None):\n",
    "        self.person_id = person_id\n",
    "        self.pickup_id = pickup_id\n",
    "        self.delivery_id = delivery_id\n",
    "\n",
    "class vehicle(object):\n",
    "    def __init__(self, vehicle_id=None, start_id=None, end_id=None):\n",
    "        self.vehicle_id = vehicle_id\n",
    "        self.start_id = start_id\n",
    "        self.end_id = end_id"
   ]
  },
  {
   "cell_type": "code",
   "execution_count": 14,
   "id": "413365dc",
   "metadata": {},
   "outputs": [],
   "source": [
    "tree = ET.parse(file)\n",
    "root = tree.getroot()\n",
    "namespace = {'xmlns': 'http://www.w3schools.com'}\n",
    "shipments_element = root.find('xmlns:shipments', namespace)\n",
    "shipment_elements = shipments_element.findall('xmlns:shipment', namespace)\n",
    "shipments = []\n",
    "for shipment_element in shipment_elements:\n",
    "    ind = int(shipment_element.attrib.get('id'))\n",
    "    pickup_id = int(shipment_element.find('xmlns:pickup', namespace).find('xmlns:location', namespace).find('xmlns:id', namespace).text)\n",
    "    delivery_id = int(shipment_element.find('xmlns:delivery', namespace).find('xmlns:location', namespace).find('xmlns:id', namespace).text)\n",
    "    shipments.append(shipment(ind, pickup_id, delivery_id))"
   ]
  },
  {
   "cell_type": "code",
   "execution_count": 15,
   "id": "abd74db8",
   "metadata": {},
   "outputs": [],
   "source": [
    "tree = ET.parse(file)\n",
    "root = tree.getroot()\n",
    "namespace = {'xmlns': 'http://www.w3schools.com'}\n",
    "vehicles_element = root.find('xmlns:vehicles', namespace)\n",
    "vehicle_elements = vehicles_element.findall('xmlns:vehicle', namespace)\n",
    "vehicles = []\n",
    "for vehicle_element in vehicle_elements:\n",
    "    ind = int(vehicle_element.find('xmlns:id', namespace).text)\n",
    "    start_id = int(vehicle_element.find('xmlns:startLocation', namespace).find('xmlns:id', namespace).text)\n",
    "    end_id = int(vehicle_element.find('xmlns:endLocation', namespace).find('xmlns:id', namespace).text)\n",
    "    vehicles.append(vehicle(ind, start_id, end_id))"
   ]
  },
  {
   "cell_type": "code",
   "execution_count": 16,
   "id": "c6beb5c8",
   "metadata": {},
   "outputs": [],
   "source": [
    "active_time = []\n",
    "drive_time = []\n",
    "drive_distance = []\n",
    "passengers = []\n",
    "direct_distance = []\n",
    "direct_time = []\n",
    "route_time = []\n",
    "for route in solution.routes:\n",
    "    route_time.append(route.end_time - route.start_time)\n",
    "    active_time.append(route.acts[-1].end_time - route.acts[0].end_time + route.acts[0].arrival_time - route.start_time)\n",
    "    VKT = 0\n",
    "    npass = 0\n",
    "    dtime = 0\n",
    "    ddistance = 0\n",
    "    points = []\n",
    "    \n",
    "#   depot -> first location\n",
    "    vehicle = [v for v in vehicles if v.vehicle_id == route.vehicle_id][0]\n",
    "    points.append(vehicle.start_id)\n",
    "    \n",
    "#   main route\n",
    "    for act in route.acts:\n",
    "        shipment = [s for s in shipments if s.person_id == act.person_id][0]\n",
    "        if act.type == 0:\n",
    "            loc_id = shipment.pickup_id\n",
    "        elif act.type == 1:\n",
    "            loc_id = shipment.delivery_id \n",
    "            npass += 1\n",
    "            direct = tdm.loc[(shipment.pickup_id, shipment.delivery_id)]\n",
    "            dtime += direct.time\n",
    "            ddistance += direct.distance\n",
    "        else:\n",
    "            print('should not be here!')\n",
    "            break\n",
    "        \n",
    "        points.append(loc_id)\n",
    "        \n",
    "    \n",
    "            \n",
    "#   last location -> depot\n",
    "    points.append(vehicle.end_id)\n",
    "    \n",
    "#   save for DataFrame\n",
    "    td = sum([tdm.loc[(s,e)] for s,e in zip(points, points[1:])])\n",
    "    drive_time.append(td.time)\n",
    "    drive_distance.append(td.distance)\n",
    "    passengers.append(npass)\n",
    "    direct_distance.append(ddistance)\n",
    "    direct_time.append(dtime)\n",
    "    \n",
    "routes_parsed = pd.DataFrame({\n",
    "    'drive_time': drive_time,\n",
    "    'drive_distance': drive_distance,\n",
    "    'active_time': active_time,\n",
    "    'passengers': passengers,\n",
    "    'direct_distance': direct_distance,\n",
    "    'direct_time': direct_time,\n",
    "    'route_time': route_time,\n",
    "    })"
   ]
  },
  {
   "cell_type": "code",
   "execution_count": null,
   "id": "11add66e",
   "metadata": {},
   "outputs": [],
   "source": []
  },
  {
   "cell_type": "code",
   "execution_count": 17,
   "id": "cd5c0a06",
   "metadata": {},
   "outputs": [
    {
     "data": {
      "text/html": [
       "<div>\n",
       "<style scoped>\n",
       "    .dataframe tbody tr th:only-of-type {\n",
       "        vertical-align: middle;\n",
       "    }\n",
       "\n",
       "    .dataframe tbody tr th {\n",
       "        vertical-align: top;\n",
       "    }\n",
       "\n",
       "    .dataframe thead th {\n",
       "        text-align: right;\n",
       "    }\n",
       "</style>\n",
       "<table border=\"1\" class=\"dataframe\">\n",
       "  <thead>\n",
       "    <tr style=\"text-align: right;\">\n",
       "      <th></th>\n",
       "      <th>drive_time</th>\n",
       "      <th>drive_distance</th>\n",
       "      <th>active_time</th>\n",
       "      <th>passengers</th>\n",
       "      <th>direct_distance</th>\n",
       "      <th>direct_time</th>\n",
       "      <th>route_time</th>\n",
       "    </tr>\n",
       "  </thead>\n",
       "  <tbody>\n",
       "    <tr>\n",
       "      <th>0</th>\n",
       "      <td>61830.2</td>\n",
       "      <td>974044.8</td>\n",
       "      <td>65411.5</td>\n",
       "      <td>32</td>\n",
       "      <td>611908.2</td>\n",
       "      <td>38978.8</td>\n",
       "      <td>86264.0</td>\n",
       "    </tr>\n",
       "    <tr>\n",
       "      <th>1</th>\n",
       "      <td>27477.1</td>\n",
       "      <td>437274.1</td>\n",
       "      <td>29119.1</td>\n",
       "      <td>16</td>\n",
       "      <td>354619.5</td>\n",
       "      <td>20070.8</td>\n",
       "      <td>55697.4</td>\n",
       "    </tr>\n",
       "    <tr>\n",
       "      <th>2</th>\n",
       "      <td>33467.4</td>\n",
       "      <td>530215.6</td>\n",
       "      <td>36263.9</td>\n",
       "      <td>18</td>\n",
       "      <td>366296.7</td>\n",
       "      <td>22830.4</td>\n",
       "      <td>54729.7</td>\n",
       "    </tr>\n",
       "    <tr>\n",
       "      <th>3</th>\n",
       "      <td>62252.2</td>\n",
       "      <td>911962.6</td>\n",
       "      <td>67068.8</td>\n",
       "      <td>36</td>\n",
       "      <td>766904.5</td>\n",
       "      <td>49701.4</td>\n",
       "      <td>84788.4</td>\n",
       "    </tr>\n",
       "    <tr>\n",
       "      <th>4</th>\n",
       "      <td>38633.1</td>\n",
       "      <td>562110.6</td>\n",
       "      <td>41922.9</td>\n",
       "      <td>23</td>\n",
       "      <td>507831.6</td>\n",
       "      <td>30216.0</td>\n",
       "      <td>65149.7</td>\n",
       "    </tr>\n",
       "    <tr>\n",
       "      <th>...</th>\n",
       "      <td>...</td>\n",
       "      <td>...</td>\n",
       "      <td>...</td>\n",
       "      <td>...</td>\n",
       "      <td>...</td>\n",
       "      <td>...</td>\n",
       "      <td>...</td>\n",
       "    </tr>\n",
       "    <tr>\n",
       "      <th>653</th>\n",
       "      <td>9381.0</td>\n",
       "      <td>153256.4</td>\n",
       "      <td>10137.7</td>\n",
       "      <td>5</td>\n",
       "      <td>33580.4</td>\n",
       "      <td>2711.1</td>\n",
       "      <td>36595.1</td>\n",
       "    </tr>\n",
       "    <tr>\n",
       "      <th>654</th>\n",
       "      <td>5154.8</td>\n",
       "      <td>77678.2</td>\n",
       "      <td>5278.7</td>\n",
       "      <td>3</td>\n",
       "      <td>41290.2</td>\n",
       "      <td>2582.8</td>\n",
       "      <td>34593.7</td>\n",
       "    </tr>\n",
       "    <tr>\n",
       "      <th>655</th>\n",
       "      <td>7898.9</td>\n",
       "      <td>135200.2</td>\n",
       "      <td>8316.9</td>\n",
       "      <td>4</td>\n",
       "      <td>70950.5</td>\n",
       "      <td>4234.0</td>\n",
       "      <td>34320.9</td>\n",
       "    </tr>\n",
       "    <tr>\n",
       "      <th>656</th>\n",
       "      <td>8418.7</td>\n",
       "      <td>131474.2</td>\n",
       "      <td>8275.4</td>\n",
       "      <td>4</td>\n",
       "      <td>91347.7</td>\n",
       "      <td>5694.8</td>\n",
       "      <td>38399.4</td>\n",
       "    </tr>\n",
       "    <tr>\n",
       "      <th>657</th>\n",
       "      <td>22971.7</td>\n",
       "      <td>371232.0</td>\n",
       "      <td>26488.2</td>\n",
       "      <td>11</td>\n",
       "      <td>284108.2</td>\n",
       "      <td>17201.9</td>\n",
       "      <td>57217.5</td>\n",
       "    </tr>\n",
       "  </tbody>\n",
       "</table>\n",
       "<p>658 rows × 7 columns</p>\n",
       "</div>"
      ],
      "text/plain": [
       "     drive_time  drive_distance  active_time  passengers  direct_distance  \\\n",
       "0       61830.2        974044.8      65411.5          32         611908.2   \n",
       "1       27477.1        437274.1      29119.1          16         354619.5   \n",
       "2       33467.4        530215.6      36263.9          18         366296.7   \n",
       "3       62252.2        911962.6      67068.8          36         766904.5   \n",
       "4       38633.1        562110.6      41922.9          23         507831.6   \n",
       "..          ...             ...          ...         ...              ...   \n",
       "653      9381.0        153256.4      10137.7           5          33580.4   \n",
       "654      5154.8         77678.2       5278.7           3          41290.2   \n",
       "655      7898.9        135200.2       8316.9           4          70950.5   \n",
       "656      8418.7        131474.2       8275.4           4          91347.7   \n",
       "657     22971.7        371232.0      26488.2          11         284108.2   \n",
       "\n",
       "     direct_time  route_time  \n",
       "0        38978.8     86264.0  \n",
       "1        20070.8     55697.4  \n",
       "2        22830.4     54729.7  \n",
       "3        49701.4     84788.4  \n",
       "4        30216.0     65149.7  \n",
       "..           ...         ...  \n",
       "653       2711.1     36595.1  \n",
       "654       2582.8     34593.7  \n",
       "655       4234.0     34320.9  \n",
       "656       5694.8     38399.4  \n",
       "657      17201.9     57217.5  \n",
       "\n",
       "[658 rows x 7 columns]"
      ]
     },
     "execution_count": 17,
     "metadata": {},
     "output_type": "execute_result"
    }
   ],
   "source": [
    "routes_parsed"
   ]
  },
  {
   "cell_type": "code",
   "execution_count": 18,
   "id": "97f20688",
   "metadata": {},
   "outputs": [
    {
     "data": {
      "text/html": [
       "<div>\n",
       "<style scoped>\n",
       "    .dataframe tbody tr th:only-of-type {\n",
       "        vertical-align: middle;\n",
       "    }\n",
       "\n",
       "    .dataframe tbody tr th {\n",
       "        vertical-align: top;\n",
       "    }\n",
       "\n",
       "    .dataframe thead th {\n",
       "        text-align: right;\n",
       "    }\n",
       "</style>\n",
       "<table border=\"1\" class=\"dataframe\">\n",
       "  <thead>\n",
       "    <tr style=\"text-align: right;\">\n",
       "      <th></th>\n",
       "      <th>drive_time</th>\n",
       "      <th>drive_distance</th>\n",
       "      <th>active_time</th>\n",
       "      <th>passengers</th>\n",
       "      <th>direct_distance</th>\n",
       "      <th>direct_time</th>\n",
       "      <th>route_time</th>\n",
       "    </tr>\n",
       "  </thead>\n",
       "  <tbody>\n",
       "    <tr>\n",
       "      <th>count</th>\n",
       "      <td>658.000000</td>\n",
       "      <td>6.580000e+02</td>\n",
       "      <td>658.000000</td>\n",
       "      <td>658.000000</td>\n",
       "      <td>6.580000e+02</td>\n",
       "      <td>658.000000</td>\n",
       "      <td>658.000000</td>\n",
       "    </tr>\n",
       "    <tr>\n",
       "      <th>mean</th>\n",
       "      <td>33775.788602</td>\n",
       "      <td>5.094375e+05</td>\n",
       "      <td>38848.403343</td>\n",
       "      <td>17.770517</td>\n",
       "      <td>3.752183e+05</td>\n",
       "      <td>23614.997872</td>\n",
       "      <td>60316.104103</td>\n",
       "    </tr>\n",
       "    <tr>\n",
       "      <th>std</th>\n",
       "      <td>16534.231827</td>\n",
       "      <td>2.485411e+05</td>\n",
       "      <td>19351.308177</td>\n",
       "      <td>9.524969</td>\n",
       "      <td>2.126143e+05</td>\n",
       "      <td>13053.294216</td>\n",
       "      <td>15747.056012</td>\n",
       "    </tr>\n",
       "    <tr>\n",
       "      <th>min</th>\n",
       "      <td>467.600000</td>\n",
       "      <td>4.194700e+03</td>\n",
       "      <td>318.600000</td>\n",
       "      <td>1.000000</td>\n",
       "      <td>1.988700e+03</td>\n",
       "      <td>222.000000</td>\n",
       "      <td>30431.000000</td>\n",
       "    </tr>\n",
       "    <tr>\n",
       "      <th>25%</th>\n",
       "      <td>19617.450000</td>\n",
       "      <td>2.937160e+05</td>\n",
       "      <td>23297.600000</td>\n",
       "      <td>9.000000</td>\n",
       "      <td>1.962359e+05</td>\n",
       "      <td>12407.750000</td>\n",
       "      <td>48612.175000</td>\n",
       "    </tr>\n",
       "    <tr>\n",
       "      <th>50%</th>\n",
       "      <td>35438.700000</td>\n",
       "      <td>5.322224e+05</td>\n",
       "      <td>39940.550000</td>\n",
       "      <td>18.000000</td>\n",
       "      <td>3.808155e+05</td>\n",
       "      <td>24211.100000</td>\n",
       "      <td>62767.850000</td>\n",
       "    </tr>\n",
       "    <tr>\n",
       "      <th>75%</th>\n",
       "      <td>46275.075000</td>\n",
       "      <td>6.854277e+05</td>\n",
       "      <td>52478.975000</td>\n",
       "      <td>25.000000</td>\n",
       "      <td>5.205208e+05</td>\n",
       "      <td>33185.450000</td>\n",
       "      <td>71805.850000</td>\n",
       "    </tr>\n",
       "    <tr>\n",
       "      <th>max</th>\n",
       "      <td>72890.600000</td>\n",
       "      <td>1.072414e+06</td>\n",
       "      <td>86225.200000</td>\n",
       "      <td>46.000000</td>\n",
       "      <td>1.036819e+06</td>\n",
       "      <td>62875.600000</td>\n",
       "      <td>86396.800000</td>\n",
       "    </tr>\n",
       "  </tbody>\n",
       "</table>\n",
       "</div>"
      ],
      "text/plain": [
       "         drive_time  drive_distance   active_time  passengers  \\\n",
       "count    658.000000    6.580000e+02    658.000000  658.000000   \n",
       "mean   33775.788602    5.094375e+05  38848.403343   17.770517   \n",
       "std    16534.231827    2.485411e+05  19351.308177    9.524969   \n",
       "min      467.600000    4.194700e+03    318.600000    1.000000   \n",
       "25%    19617.450000    2.937160e+05  23297.600000    9.000000   \n",
       "50%    35438.700000    5.322224e+05  39940.550000   18.000000   \n",
       "75%    46275.075000    6.854277e+05  52478.975000   25.000000   \n",
       "max    72890.600000    1.072414e+06  86225.200000   46.000000   \n",
       "\n",
       "       direct_distance   direct_time    route_time  \n",
       "count     6.580000e+02    658.000000    658.000000  \n",
       "mean      3.752183e+05  23614.997872  60316.104103  \n",
       "std       2.126143e+05  13053.294216  15747.056012  \n",
       "min       1.988700e+03    222.000000  30431.000000  \n",
       "25%       1.962359e+05  12407.750000  48612.175000  \n",
       "50%       3.808155e+05  24211.100000  62767.850000  \n",
       "75%       5.205208e+05  33185.450000  71805.850000  \n",
       "max       1.036819e+06  62875.600000  86396.800000  "
      ]
     },
     "execution_count": 18,
     "metadata": {},
     "output_type": "execute_result"
    }
   ],
   "source": [
    "routes_parsed.describe()"
   ]
  },
  {
   "cell_type": "code",
   "execution_count": 19,
   "id": "4f524e2a",
   "metadata": {},
   "outputs": [
    {
     "data": {
      "text/plain": [
       "11693"
      ]
     },
     "execution_count": 19,
     "metadata": {},
     "output_type": "execute_result"
    }
   ],
   "source": [
    "routes_parsed.passengers.sum()"
   ]
  },
  {
   "cell_type": "code",
   "execution_count": 20,
   "id": "151cbb23",
   "metadata": {},
   "outputs": [
    {
     "data": {
      "text/plain": [
       "509437.53996960487"
      ]
     },
     "execution_count": 20,
     "metadata": {},
     "output_type": "execute_result"
    }
   ],
   "source": [
    "routes_parsed.drive_distance.sum()/len(routes_parsed.index)"
   ]
  },
  {
   "cell_type": "code",
   "execution_count": 21,
   "id": "f4dcba74",
   "metadata": {},
   "outputs": [
    {
     "data": {
      "text/plain": [
       "11693"
      ]
     },
     "execution_count": 21,
     "metadata": {},
     "output_type": "execute_result"
    }
   ],
   "source": [
    "routes_parsed.passengers.sum()"
   ]
  },
  {
   "cell_type": "code",
   "execution_count": 22,
   "id": "908a051a",
   "metadata": {},
   "outputs": [
    {
     "data": {
      "text/plain": [
       "4"
      ]
     },
     "execution_count": 22,
     "metadata": {},
     "output_type": "execute_result"
    }
   ],
   "source": [
    "len(solution.unassigned)"
   ]
  },
  {
   "cell_type": "code",
   "execution_count": 23,
   "id": "9ef33f01",
   "metadata": {},
   "outputs": [
    {
     "data": {
      "text/plain": [
       "drive_time          22224468.9\n",
       "drive_distance     335209901.3\n",
       "active_time         25562249.4\n",
       "passengers             11693.0\n",
       "direct_distance    246893661.3\n",
       "direct_time         15538668.6\n",
       "route_time          39687996.5\n",
       "dtype: float64"
      ]
     },
     "execution_count": 23,
     "metadata": {},
     "output_type": "execute_result"
    }
   ],
   "source": [
    "routes_parsed.sum()"
   ]
  },
  {
   "cell_type": "code",
   "execution_count": 24,
   "id": "ffcd9015",
   "metadata": {},
   "outputs": [
    {
     "data": {
      "text/plain": [
       "335209.9013"
      ]
     },
     "execution_count": 24,
     "metadata": {},
     "output_type": "execute_result"
    }
   ],
   "source": [
    "routes_parsed.drive_distance.sum()/1000"
   ]
  },
  {
   "cell_type": "code",
   "execution_count": 25,
   "id": "5c34976a",
   "metadata": {},
   "outputs": [
    {
     "data": {
      "text/plain": [
       "246893.66129999998"
      ]
     },
     "execution_count": 25,
     "metadata": {},
     "output_type": "execute_result"
    }
   ],
   "source": [
    "routes_parsed.direct_distance.sum()/1000"
   ]
  },
  {
   "cell_type": "code",
   "execution_count": 26,
   "id": "bc7a629e",
   "metadata": {},
   "outputs": [
    {
     "data": {
      "text/plain": [
       "258977.81000000003"
      ]
     },
     "execution_count": 26,
     "metadata": {},
     "output_type": "execute_result"
    }
   ],
   "source": [
    "routes_parsed.direct_time.sum()/60"
   ]
  },
  {
   "cell_type": "code",
   "execution_count": 27,
   "id": "36774b0b",
   "metadata": {},
   "outputs": [
    {
     "data": {
      "text/plain": [
       "370407.815"
      ]
     },
     "execution_count": 27,
     "metadata": {},
     "output_type": "execute_result"
    }
   ],
   "source": [
    "routes_parsed.drive_time.sum()/60"
   ]
  },
  {
   "cell_type": "code",
   "execution_count": 28,
   "id": "56254b18",
   "metadata": {},
   "outputs": [
    {
     "data": {
      "text/plain": [
       "6173.463583333333"
      ]
     },
     "execution_count": 28,
     "metadata": {},
     "output_type": "execute_result"
    }
   ],
   "source": [
    "routes_parsed.drive_time.sum()/60/60"
   ]
  },
  {
   "cell_type": "code",
   "execution_count": 29,
   "id": "a2fe39e7",
   "metadata": {},
   "outputs": [
    {
     "data": {
      "text/plain": [
       "7100.624833333334"
      ]
     },
     "execution_count": 29,
     "metadata": {},
     "output_type": "execute_result"
    }
   ],
   "source": [
    "routes_parsed.active_time.sum()/60/60"
   ]
  },
  {
   "cell_type": "code",
   "execution_count": 30,
   "id": "c2caca73",
   "metadata": {},
   "outputs": [
    {
     "data": {
      "text/plain": [
       "11024.443472222221"
      ]
     },
     "execution_count": 30,
     "metadata": {},
     "output_type": "execute_result"
    }
   ],
   "source": [
    "routes_parsed.route_time.sum()/60/60"
   ]
  },
  {
   "cell_type": "code",
   "execution_count": 31,
   "id": "c3396fba",
   "metadata": {},
   "outputs": [
    {
     "data": {
      "text/plain": [
       "72000005841689.28"
      ]
     },
     "execution_count": 31,
     "metadata": {},
     "output_type": "execute_result"
    }
   ],
   "source": [
    "solution.cost"
   ]
  },
  {
   "cell_type": "code",
   "execution_count": null,
   "id": "829c739a",
   "metadata": {},
   "outputs": [],
   "source": []
  }
 ],
 "metadata": {
  "kernelspec": {
   "display_name": "Python [conda env:gis] *",
   "language": "python",
   "name": "conda-env-gis-py"
  },
  "language_info": {
   "codemirror_mode": {
    "name": "ipython",
    "version": 3
   },
   "file_extension": ".py",
   "mimetype": "text/x-python",
   "name": "python",
   "nbconvert_exporter": "python",
   "pygments_lexer": "ipython3",
   "version": "3.9.12"
  }
 },
 "nbformat": 4,
 "nbformat_minor": 5
}
