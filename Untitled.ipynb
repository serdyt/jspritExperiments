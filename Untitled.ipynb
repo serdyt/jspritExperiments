{
 "cells": [
  {
   "cell_type": "code",
   "execution_count": 2,
   "id": "27547fdf",
   "metadata": {},
   "outputs": [],
   "source": [
    "import pandas as pd\n",
    "import requests"
   ]
  },
  {
   "cell_type": "code",
   "execution_count": null,
   "id": "3f95dff4",
   "metadata": {},
   "outputs": [],
   "source": [
    "def _drt_transit_find_max_pre_transit(person):\n",
    "    \"\"\"Finds preTransitTimes (maximum duration of CAR in kiss and ride)\n",
    "    so that transfer stops are within service zone\n",
    "\n",
    "    Gradually decreases maxPreTransitTimes until no trips can be found at all.\n",
    "    Saves all the valid maxPreTransitTimes.\n",
    "    \"\"\"\n",
    "    if person.is_in_trip():\n",
    "        mode = OtpMode.RIDE_KISS\n",
    "    elif person.is_out_trip():\n",
    "        mode = OtpMode.KISS_RIDE\n",
    "    else:\n",
    "        raise Exception('cannot determine mode!')\n",
    "            \n",
    "    params = copy.copy(person.get_routing_parameters())\n",
    "    max_pre_transit_times = []\n",
    "    cur_max_pre_transit = self.env.config.get('drt.maxPreTransitTime')\n",
    "    params.update({'maxPreTransitTime': cur_max_pre_transit})\n",
    "    request_time = person.get_trip_departure_with_tw_for_otp()\n",
    "    while True:\n",
    "        try:\n",
    "            pt_alt_temp = self.router.otp_request(person.curr_activity.coord,\n",
    "                                                  person.next_activity.coord,\n",
    "                                                  request_time,\n",
    "                                                  mode,\n",
    "                                                  params\n",
    "                                                  )\n",
    "        except OTPNoPath:\n",
    "            # it will break the loop when no trips can be found with small maxPreTransitTime\n",
    "            break\n",
    "\n",
    "        new_max_pre_transit = cur_max_pre_transit\n",
    "        append = False\n",
    "        for alt in pt_alt_temp:\n",
    "            if len(alt.legs) == 1:\n",
    "                continue\n",
    "            if len([True for leg in alt.legs if leg.mode in LegMode.get_pt_modes()]) == 0:\n",
    "                continue\n",
    "\n",
    "            if person.is_in_trip():\n",
    "                new_max_pre_transit = min(int(alt.legs[-1].duration), new_max_pre_transit)\n",
    "                if alt.legs[-1].duration > cur_max_pre_transit:\n",
    "                    break\n",
    "                if not self.is_stop_in_zone(self._get_bus_leg_for_in_trip(alt).to_stop):\n",
    "                    continue\n",
    "            else:\n",
    "                new_max_pre_transit = min(int(alt.legs[0].duration), new_max_pre_transit)\n",
    "                if alt.legs[0].duration > cur_max_pre_transit:\n",
    "                    break\n",
    "                if not self.is_stop_in_zone(self._get_bus_leg_for_out_trip(alt).from_stop):\n",
    "                    continue\n",
    "            append = True\n",
    "            break\n",
    "        if append:\n",
    "            max_pre_transit_times.append(cur_max_pre_transit)\n",
    "        cur_max_pre_transit = new_max_pre_transit - 60\n",
    "        if cur_max_pre_transit < 0:\n",
    "            break\n",
    "        params.update({'maxPreTransitTime': cur_max_pre_transit})\n",
    "\n",
    "    return max_pre_transit_times"
   ]
  }
 ],
 "metadata": {
  "kernelspec": {
   "display_name": "Python 3",
   "language": "python",
   "name": "python3"
  },
  "language_info": {
   "codemirror_mode": {
    "name": "ipython",
    "version": 3
   },
   "file_extension": ".py",
   "mimetype": "text/x-python",
   "name": "python",
   "nbconvert_exporter": "python",
   "pygments_lexer": "ipython3",
   "version": "3.9.12"
  }
 },
 "nbformat": 4,
 "nbformat_minor": 5
}
