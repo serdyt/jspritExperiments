{
 "cells": [
  {
   "cell_type": "code",
   "execution_count": 1,
   "id": "564ee9f8",
   "metadata": {},
   "outputs": [],
   "source": [
    "import pandas as pd\n",
    "import xml.etree.ElementTree as ET\n",
    "import geopandas\n",
    "import numpy as np"
   ]
  },
  {
   "cell_type": "code",
   "execution_count": 2,
   "id": "127058e4",
   "metadata": {},
   "outputs": [],
   "source": [
    "ET.register_namespace('', 'http://www.w3schools.com')\n",
    "namespace = {'xmlns': 'http://www.w3schools.com'}\n",
    "tree = ET.parse('data/solution_day_sts_5300RINR.xml')\n",
    "root = tree.getroot()"
   ]
  },
  {
   "cell_type": "markdown",
   "id": "8cea155b",
   "metadata": {},
   "source": [
    "# get vehicle locations"
   ]
  },
  {
   "cell_type": "code",
   "execution_count": 3,
   "id": "d829ad1a",
   "metadata": {},
   "outputs": [],
   "source": [
    "class Coordinate(object):\n",
    "        \n",
    "    def __init__(self, lon, lat):\n",
    "        self.lon = lon\n",
    "        self.lat = lat\n",
    "        \n",
    "class Coordinates(object):\n",
    "    index = 0\n",
    "    \n",
    "    def __init__(self):\n",
    "        Coordinates.index = 0\n",
    "        self.coords = {}\n",
    "        \n",
    "    def update(self, coordinate):\n",
    "        if coordinate not in self.coords.keys():\n",
    "            self.coords[coordinate] = Coordinates.index\n",
    "            Coordinates.index += 1\n",
    "            \n",
    "    def get_index(self, coordinate):\n",
    "        return self.coords[coordinate]\n"
   ]
  },
  {
   "cell_type": "code",
   "execution_count": 4,
   "id": "d00c575a",
   "metadata": {},
   "outputs": [],
   "source": [
    "coordinates = Coordinates()"
   ]
  },
  {
   "cell_type": "code",
   "execution_count": 5,
   "id": "02f4b795",
   "metadata": {},
   "outputs": [],
   "source": [
    "vehicles_element = root.find('xmlns:vehicles', namespace)\n",
    "vehicle_elements = vehicles_element.findall('xmlns:vehicle', namespace)\n",
    "for vehicle in vehicle_elements:\n",
    "    scoord = vehicle.find('xmlns:startLocation/xmlns:coord', namespace)\n",
    "    slon = scoord.get('x')\n",
    "    slat = scoord.get('y')\n",
    "    coordinates.update((slon, slat))\n",
    "    index = coordinates.get_index((slon, slat))\n",
    "    id_element = vehicle.find('xmlns:startLocation/xmlns:id', namespace)\n",
    "    id_element.text = str(index)\n",
    "    index_element = vehicle.find('xmlns:startLocation/xmlns:index', namespace)\n",
    "    index_element.text = str(index)\n",
    "    \n",
    "    ecoord = vehicle.find('xmlns:endLocation/xmlns:coord', namespace)\n",
    "    elon = ecoord.get('x')\n",
    "    elat = ecoord.get('y')\n",
    "    coordinates.update((elon, elat))\n",
    "    index = coordinates.get_index((elon, elat))\n",
    "    id_element = vehicle.find('xmlns:endLocation/xmlns:id', namespace)\n",
    "    id_element.text = str(index)\n",
    "    index_element = vehicle.find('xmlns:endLocation/xmlns:index', namespace)\n",
    "    index_element.text = str(index)"
   ]
  },
  {
   "cell_type": "code",
   "execution_count": 6,
   "id": "cc976146",
   "metadata": {},
   "outputs": [],
   "source": [
    "shipments_element = root.find('xmlns:shipments', namespace)\n",
    "shipment_elements = shipments_element.findall('xmlns:shipment', namespace)\n",
    "for shipment in shipment_elements:\n",
    "    shipments_element.remove(shipment)"
   ]
  },
  {
   "cell_type": "code",
   "execution_count": 7,
   "id": "4c05c631",
   "metadata": {},
   "outputs": [],
   "source": [
    "# initial_routes_element = root.find('xmlns:initialRoutes', namespace)\n",
    "# root.remove(initial_routes_element)\n",
    "solutions_element = root.find('xmlns:solutions', namespace)\n",
    "root.remove(solutions_element)"
   ]
  },
  {
   "cell_type": "markdown",
   "id": "9d94d77d",
   "metadata": {},
   "source": [
    "# Now \"others\""
   ]
  },
  {
   "cell_type": "code",
   "execution_count": 8,
   "id": "446e34f7",
   "metadata": {},
   "outputs": [],
   "source": [
    "def write_coord(parent, location_type, coord, geoid):\n",
    "    \"\"\"Writes coordinates to XML.\n",
    "\n",
    "    jsprit can make graphs with vrp solution, but it requires actual coordinates to do this\n",
    "    \"\"\"\n",
    "    location_element = ET.SubElement(parent, location_type)\n",
    "    # index is mandatory when solving VRP based on time-distance matrix\n",
    "    ET.SubElement(location_element, 'index').text = str(geoid)\n",
    "    # other elements are optional\n",
    "    ET.SubElement(location_element, 'id').text = str(geoid)\n",
    "    ET.SubElement(location_element, 'coord', attrib={\n",
    "        'x': str(coord[0]), 'y': str(coord[1])\n",
    "    })\n",
    "    \n",
    "def write_time_windows(parent, tw_start, tw_end):\n",
    "    if tw_start is not None and tw_end is not None:\n",
    "        time_windows_element = ET.SubElement(parent, 'timeWindows')\n",
    "        time_window_element = ET.SubElement(time_windows_element, 'timeWindow')\n",
    "        ET.SubElement(time_window_element, 'start').text = str(tw_start)\n",
    "        ET.SubElement(time_window_element, 'end').text = str(tw_end)\n",
    "    \n",
    "def write_shipment_step( parent, shipment_type, coord, geoid, execution_time, tw_start, tw_end):\n",
    "    shipment_type_element = ET.SubElement(parent, shipment_type)\n",
    "    write_coord(shipment_type_element, 'location', coord, geoid)\n",
    "    ET.SubElement(shipment_type_element, 'duration').text = str(execution_time)\n",
    "    write_time_windows(shipment_type_element, tw_start, tw_end)"
   ]
  },
  {
   "cell_type": "code",
   "execution_count": 9,
   "id": "dd50692f",
   "metadata": {},
   "outputs": [],
   "source": [
    "persons = pd.read_excel('data/sjöbo_trips_general_sample6421.xlsx')"
   ]
  },
  {
   "cell_type": "code",
   "execution_count": 10,
   "id": "c3ea985b",
   "metadata": {},
   "outputs": [],
   "source": [
    "shipments_element = root.find('xmlns:shipments', namespace)\n",
    "for person in persons.itertuples():\n",
    "    shipment_element = ET.SubElement(shipments_element, 'shipment', attrib={'id': str(person.id*1000000)})\n",
    "    \n",
    "    shipment_type_element = ET.SubElement(shipment_element, 'pickup')\n",
    "    scoord = (person.start_longitude, person.start_latitude)\n",
    "    coordinates.update(scoord)\n",
    "    sgeoid = coordinates.get_index(scoord)\n",
    "    write_coord(shipment_type_element, 'location', scoord, sgeoid)\n",
    "    ET.SubElement(shipment_type_element, 'duration').text = \"60\"     \n",
    "    write_time_windows(shipment_type_element, max(person.time - 3600/2, 0), person.time + 3600/2)\n",
    "    \n",
    "    ecoord = (person.end_longitude, person.end_latitude)\n",
    "    coordinates.update(ecoord)\n",
    "    egeoid = coordinates.get_index(ecoord)\n",
    "    shipment_type_element = ET.SubElement(shipment_element, 'delivery')\n",
    "    write_coord(shipment_type_element, 'location', ecoord, egeoid)\n",
    "    ET.SubElement(shipment_type_element, 'duration').text = \"60\"     \n",
    "    write_time_windows(shipment_type_element, max(person.time - 3600/2, 0), person.time + 3600/2 + person.max_ivt)\n",
    "    \n",
    "    capacity_element = ET.SubElement(shipment_element, 'capacity-dimensions')\n",
    "    ET.SubElement(capacity_element, 'dimension', attrib={'index': \"0\"}).text = str(1)\n",
    "            \n",
    "            \n",
    "    ET.SubElement(shipment_element, 'maxInVehicleTime').text = str(person.max_ivt)"
   ]
  },
  {
   "cell_type": "code",
   "execution_count": 11,
   "id": "272fd807",
   "metadata": {},
   "outputs": [],
   "source": [
    "from xml.dom import minidom\n",
    "xmlstr = minidom.parseString(ET.tostring(root)).toprettyxml(indent=\"  \")\n",
    "with open(\"data/sjobo_general.xml\", \"w\") as f:\n",
    "    f.write(xmlstr)"
   ]
  },
  {
   "cell_type": "code",
   "execution_count": 12,
   "id": "ef436969",
   "metadata": {},
   "outputs": [],
   "source": [
    "# tree.write('data/sjobo_integrated_vrp.xml', xml_declaration=True, encoding=\"UTF-8\")"
   ]
  },
  {
   "cell_type": "code",
   "execution_count": 13,
   "id": "bef49777",
   "metadata": {},
   "outputs": [],
   "source": [
    "tdm = pd.DataFrame.from_dict(coordinates.coords, orient='index').reset_index().set_index(0)"
   ]
  },
  {
   "cell_type": "code",
   "execution_count": 14,
   "id": "863f4abd",
   "metadata": {},
   "outputs": [
    {
     "data": {
      "text/html": [
       "<div>\n",
       "<style scoped>\n",
       "    .dataframe tbody tr th:only-of-type {\n",
       "        vertical-align: middle;\n",
       "    }\n",
       "\n",
       "    .dataframe tbody tr th {\n",
       "        vertical-align: top;\n",
       "    }\n",
       "\n",
       "    .dataframe thead th {\n",
       "        text-align: right;\n",
       "    }\n",
       "</style>\n",
       "<table border=\"1\" class=\"dataframe\">\n",
       "  <thead>\n",
       "    <tr style=\"text-align: right;\">\n",
       "      <th></th>\n",
       "      <th>index</th>\n",
       "    </tr>\n",
       "    <tr>\n",
       "      <th>0</th>\n",
       "      <th></th>\n",
       "    </tr>\n",
       "  </thead>\n",
       "  <tbody>\n",
       "    <tr>\n",
       "      <th>0</th>\n",
       "      <td>(13.15, 55.383333)</td>\n",
       "    </tr>\n",
       "    <tr>\n",
       "      <th>1</th>\n",
       "      <td>(13.320832, 55.6932601)</td>\n",
       "    </tr>\n",
       "    <tr>\n",
       "      <th>2</th>\n",
       "      <td>(12.782837494270069, 56.10739805)</td>\n",
       "    </tr>\n",
       "    <tr>\n",
       "      <th>3</th>\n",
       "      <td>(12.9719851, 56.2594006)</td>\n",
       "    </tr>\n",
       "    <tr>\n",
       "      <th>4</th>\n",
       "      <td>(14.15, 56.0)</td>\n",
       "    </tr>\n",
       "    <tr>\n",
       "      <th>...</th>\n",
       "      <td>...</td>\n",
       "    </tr>\n",
       "    <tr>\n",
       "      <th>7085</th>\n",
       "      <td>(13.7073147145297, 55.66138759817123)</td>\n",
       "    </tr>\n",
       "    <tr>\n",
       "      <th>7086</th>\n",
       "      <td>(13.83656431876258, 55.68339675499357)</td>\n",
       "    </tr>\n",
       "    <tr>\n",
       "      <th>7087</th>\n",
       "      <td>(13.76977163431982, 55.62650004347864)</td>\n",
       "    </tr>\n",
       "    <tr>\n",
       "      <th>7088</th>\n",
       "      <td>(13.18947535710031, 55.69832986745449)</td>\n",
       "    </tr>\n",
       "    <tr>\n",
       "      <th>7089</th>\n",
       "      <td>(13.83285198761569, 55.43148423273941)</td>\n",
       "    </tr>\n",
       "  </tbody>\n",
       "</table>\n",
       "<p>7090 rows × 1 columns</p>\n",
       "</div>"
      ],
      "text/plain": [
       "                                       index\n",
       "0                                           \n",
       "0                         (13.15, 55.383333)\n",
       "1                    (13.320832, 55.6932601)\n",
       "2          (12.782837494270069, 56.10739805)\n",
       "3                   (12.9719851, 56.2594006)\n",
       "4                              (14.15, 56.0)\n",
       "...                                      ...\n",
       "7085   (13.7073147145297, 55.66138759817123)\n",
       "7086  (13.83656431876258, 55.68339675499357)\n",
       "7087  (13.76977163431982, 55.62650004347864)\n",
       "7088  (13.18947535710031, 55.69832986745449)\n",
       "7089  (13.83285198761569, 55.43148423273941)\n",
       "\n",
       "[7090 rows x 1 columns]"
      ]
     },
     "execution_count": 14,
     "metadata": {},
     "output_type": "execute_result"
    }
   ],
   "source": [
    "tdm"
   ]
  },
  {
   "cell_type": "code",
   "execution_count": 15,
   "id": "ccc9164c",
   "metadata": {},
   "outputs": [],
   "source": [
    "tdm['lon'] = tdm['index'].apply(lambda x: x[0])\n",
    "tdm['lat'] = tdm['index'].apply(lambda x: x[1])"
   ]
  },
  {
   "cell_type": "code",
   "execution_count": 16,
   "id": "d06ffdbc",
   "metadata": {},
   "outputs": [],
   "source": [
    "tdm = tdm.drop('index', axis=1)"
   ]
  },
  {
   "cell_type": "code",
   "execution_count": 17,
   "id": "58d08a30",
   "metadata": {},
   "outputs": [],
   "source": [
    "tdm.to_csv('data/sjobo_general.csv', header=None)"
   ]
  },
  {
   "cell_type": "code",
   "execution_count": null,
   "id": "ed700c87",
   "metadata": {},
   "outputs": [],
   "source": []
  }
 ],
 "metadata": {
  "kernelspec": {
   "display_name": "Python 3",
   "language": "python",
   "name": "python3"
  },
  "language_info": {
   "codemirror_mode": {
    "name": "ipython",
    "version": 3
   },
   "file_extension": ".py",
   "mimetype": "text/x-python",
   "name": "python",
   "nbconvert_exporter": "python",
   "pygments_lexer": "ipython3",
   "version": "3.9.12"
  }
 },
 "nbformat": 4,
 "nbformat_minor": 5
}
